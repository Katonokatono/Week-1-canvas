{
  "nbformat": 4,
  "nbformat_minor": 0,
  "metadata": {
    "colab": {
      "name": "Copy of SQL Programming - Inserting & Updating Data with SQL",
      "provenance": [],
      "collapsed_sections": [
        "zIWkDFXAg3WM",
        "0tHKCvqwjHzR"
      ],
      "toc_visible": true
    },
    "kernelspec": {
      "name": "python3",
      "display_name": "Python 3"
    }
  },
  "cells": [
    {
      "cell_type": "markdown",
      "metadata": {
        "id": "8TNyolU4aFmW"
      },
      "source": [
        "<font color=\"green\">*To start working on this notebook, or any other notebook that we will use in the Moringa Data Science Course, we will need to save our own copy of it. We can do this by clicking File > Save a Copy in Drive. We will then be able to make edits to our own copy of this notebook.*</font>"
      ]
    },
    {
      "cell_type": "markdown",
      "metadata": {
        "id": "is5UEOT8hV7u"
      },
      "source": [
        "# Inserting and Updating Data with SQL"
      ]
    },
    {
      "cell_type": "markdown",
      "metadata": {
        "id": "KCdiz748itDJ"
      },
      "source": [
        "## 1.1 Let's first connect to our Database"
      ]
    },
    {
      "cell_type": "code",
      "metadata": {
        "id": "Rhlom9gHhN5J",
        "colab": {
          "base_uri": "https://localhost:8080/",
          "height": 35
        },
        "outputId": "1eb62d86-5fdb-4e3e-d391-75ff1e70b33e"
      },
      "source": [
        "# We will first load the sql extension into our environment\n",
        "%load_ext sql\n",
        "\n",
        "# Then connect to our in memory sqlite database\n",
        "# NB: This database will cease to exist as soon as the database connection is closed. \n",
        "%sql sqlite://"
      ],
      "execution_count": 2,
      "outputs": [
        {
          "output_type": "execute_result",
          "data": {
            "application/vnd.google.colaboratory.intrinsic+json": {
              "type": "string"
            },
            "text/plain": [
              "'Connected: @None'"
            ]
          },
          "metadata": {
            "tags": []
          },
          "execution_count": 2
        }
      ]
    },
    {
      "cell_type": "markdown",
      "metadata": {
        "id": "tSl0-ovdpbm8"
      },
      "source": [
        "## 1.2 Importing Data From CSV Files"
      ]
    },
    {
      "cell_type": "code",
      "metadata": {
        "id": "9_gIWV-Rr_TD"
      },
      "source": [
        "# In order to read any csv file, we will need to import our python csv library\n",
        "# This will allow us to read a csv file that we will have uploaded to our evironment\n",
        "import csv"
      ],
      "execution_count": 3,
      "outputs": []
    },
    {
      "cell_type": "code",
      "metadata": {
        "id": "wt0J2Y4k3hWu"
      },
      "source": [
        "# We will also need a pandas library which is used for data manipulation in this notebook. For now, don't worry too much about how it functions, we will explore it in details in the coming weeks.\n",
        "import pandas as pd"
      ],
      "execution_count": 4,
      "outputs": []
    },
    {
      "cell_type": "markdown",
      "metadata": {
        "id": "BnTR_tUkp5jl"
      },
      "source": [
        "Then we will download our csv files from \n",
        "*   [Interpol Dataset](http://bit.ly/DSInterpol) \n",
        "*   [Startups Dataset](http://bit.ly/DSStartup)\n",
        "*   [Transactions Dataset](http://bit.ly/DSTransactions)\n",
        "*   [Glass Dataset](http://bit.ly/DSGlass)\n",
        "\n",
        "Later upload them to our current environment on Colaboratory by clicking View > Table of Contents > Files then Upload.  \n",
        "(We should not load these files from url)\n"
      ]
    },
    {
      "cell_type": "code",
      "metadata": {
        "id": "1zaH5Bn3l-TR"
      },
      "source": [
        "# Upon uploading our file, we will then load our first table from the CSV file as shown \n",
        "# We are going to use one of pandas function which is read_csv(). This function helps us to load data from csv files into python. It takes a several arguments/ parameters but we are going to use only a few for now. \n",
        "# The first arugument is the path of the csv file. This tells the function where your csv is located and the name of the csv. It can also be a url.\n",
        "# The second argument, index_col, tells pandas to use the row indexes as the row labels.\n",
        "with open('Interpol.csv','r') as f:\n",
        "    Interpol = pd.read_csv(f, index_col=0, encoding='utf-8') \n"
      ],
      "execution_count": 6,
      "outputs": []
    },
    {
      "cell_type": "code",
      "metadata": {
        "id": "yEtQJdLGidHx",
        "colab": {
          "base_uri": "https://localhost:8080/",
          "height": 52
        },
        "outputId": "bde6428b-2ba6-40be-e7da-0d85cb546d23"
      },
      "source": [
        "# We will then drop existing tables similar to the one that we will work with\n",
        "# in our current sqlite environment. Then push our Interpol data into a new \n",
        "# table within our current SQLite Database \n",
        "#\n",
        "\n",
        "%sql PERSIST Interpol;"
      ],
      "execution_count": 7,
      "outputs": [
        {
          "output_type": "stream",
          "text": [
            " * sqlite://\n"
          ],
          "name": "stdout"
        },
        {
          "output_type": "execute_result",
          "data": {
            "application/vnd.google.colaboratory.intrinsic+json": {
              "type": "string"
            },
            "text/plain": [
              "'Persisted interpol'"
            ]
          },
          "metadata": {
            "tags": []
          },
          "execution_count": 7
        }
      ]
    },
    {
      "cell_type": "code",
      "metadata": {
        "id": "YObR0-QANoc3",
        "colab": {
          "base_uri": "https://localhost:8080/",
          "height": 230
        },
        "outputId": "7371de8a-37f8-4b3c-9a52-be6847fefbb3"
      },
      "source": [
        "# Previewing our Interpol table\n",
        "#\n",
        "%%sql\n",
        "SELECT * FROM Interpol LIMIT 5;"
      ],
      "execution_count": 102,
      "outputs": [
        {
          "output_type": "stream",
          "text": [
            " * sqlite://\n",
            "Done.\n"
          ],
          "name": "stdout"
        },
        {
          "output_type": "execute_result",
          "data": {
            "text/html": [
              "<table>\n",
              "    <thead>\n",
              "        <tr>\n",
              "            <th>Country</th>\n",
              "            <th>National Fugitives</th>\n",
              "            <th>Wanted Fugitives</th>\n",
              "            <th>Possible Hosted Fugitives / Captured Fugitives</th>\n",
              "            <th>Region</th>\n",
              "            <th>Flag</th>\n",
              "        </tr>\n",
              "    </thead>\n",
              "    <tbody>\n",
              "        <tr>\n",
              "            <td>Albania</td>\n",
              "            <td>3</td>\n",
              "            <td>3</td>\n",
              "            <td>0</td>\n",
              "            <td>Europe</td>\n",
              "            <td>http://www.crwflags.com/fotw/images/a/al.gif</td>\n",
              "        </tr>\n",
              "        <tr>\n",
              "            <td>Angola</td>\n",
              "            <td>0</td>\n",
              "            <td>0</td>\n",
              "            <td>1</td>\n",
              "            <td>Northern Africa</td>\n",
              "            <td>http://www.crwflags.com/fotw/images/a/ao.gif</td>\n",
              "        </tr>\n",
              "        <tr>\n",
              "            <td>Argentina</td>\n",
              "            <td>2</td>\n",
              "            <td>2</td>\n",
              "            <td>1</td>\n",
              "            <td>South America</td>\n",
              "            <td>http://www.crwflags.com/fotw/images/a/ar.gif</td>\n",
              "        </tr>\n",
              "        <tr>\n",
              "            <td>Australia</td>\n",
              "            <td>1</td>\n",
              "            <td>1</td>\n",
              "            <td>2</td>\n",
              "            <td>Oceania</td>\n",
              "            <td>http://www.crwflags.com/fotw/images/a/au.gif</td>\n",
              "        </tr>\n",
              "        <tr>\n",
              "            <td>Austria</td>\n",
              "            <td>1</td>\n",
              "            <td>1</td>\n",
              "            <td>0</td>\n",
              "            <td>Europe</td>\n",
              "            <td>http://www.crwflags.com/fotw/images/a/at.gif</td>\n",
              "        </tr>\n",
              "    </tbody>\n",
              "</table>"
            ],
            "text/plain": [
              "[('Albania', 3, 3, 0, 'Europe', 'http://www.crwflags.com/fotw/images/a/al.gif'),\n",
              " ('Angola', 0, 0, 1, 'Northern Africa', 'http://www.crwflags.com/fotw/images/a/ao.gif'),\n",
              " ('Argentina', 2, 2, 1, 'South America', 'http://www.crwflags.com/fotw/images/a/ar.gif'),\n",
              " ('Australia', 1, 1, 2, 'Oceania', 'http://www.crwflags.com/fotw/images/a/au.gif'),\n",
              " ('Austria', 1, 1, 0, 'Europe', 'http://www.crwflags.com/fotw/images/a/at.gif')]"
            ]
          },
          "metadata": {
            "tags": []
          },
          "execution_count": 102
        }
      ]
    },
    {
      "cell_type": "markdown",
      "metadata": {
        "id": "woRQLL27TQtO"
      },
      "source": [
        "### <font color=\"green\">1.2 Challenges</font>"
      ]
    },
    {
      "cell_type": "code",
      "metadata": {
        "id": "l8VnNuNZTQPv"
      },
      "source": [
        "# Challenge 1\n",
        "# Let's load our Startups.csv file. \n",
        "# Feel free to copy paste the code above and make the necessary modifications\n",
        "# \n",
        "with open('Startups.csv','r') as f:\n",
        "  Startups = pd.read_csv(f, index_col=0, encoding='utf-8')"
      ],
      "execution_count": 31,
      "outputs": []
    },
    {
      "cell_type": "code",
      "metadata": {
        "id": "roBgJjYCDjyg"
      },
      "source": [
        "#Deleting pre-existing table name Startups\n",
        "%sql PERSIST Startups;"
      ],
      "execution_count": null,
      "outputs": []
    },
    {
      "cell_type": "code",
      "metadata": {
        "colab": {
          "base_uri": "https://localhost:8080/",
          "height": 1000
        },
        "id": "mvIFRLS5DicK",
        "outputId": "000490fe-2c50-4287-fc56-ce7532bfdb83"
      },
      "source": [
        "#Ill now preview the start up data set\n",
        "%%sql\n",
        "SELECT * FROM Startups  LIMIT 5"
      ],
      "execution_count": 50,
      "outputs": [
        {
          "output_type": "stream",
          "text": [
            " * sqlite://\n",
            "Done.\n"
          ],
          "name": "stdout"
        },
        {
          "output_type": "execute_result",
          "data": {
            "text/html": [
              "<table>\n",
              "    <thead>\n",
              "        <tr>\n",
              "            <th>Company</th>\n",
              "            <th>Satus</th>\n",
              "            <th>Year Founded</th>\n",
              "            <th>Mapping Location</th>\n",
              "            <th>Description</th>\n",
              "            <th>Categories</th>\n",
              "            <th>Founders</th>\n",
              "            <th>Y Combinator Year</th>\n",
              "            <th>Y Combinator Session</th>\n",
              "            <th>Investors</th>\n",
              "            <th>Amounts raised in different funding rounds</th>\n",
              "            <th>Office Address</th>\n",
              "            <th>Headquarters (City)</th>\n",
              "            <th>Headquarters (US State)</th>\n",
              "            <th>Headquarters (Country)</th>\n",
              "            <th>Logo</th>\n",
              "            <th>Seed-DB / Mattermark Profile</th>\n",
              "            <th>Crunchbase / Angel List Profile</th>\n",
              "            <th>Website</th>\n",
              "        </tr>\n",
              "    </thead>\n",
              "    <tbody>\n",
              "        <tr>\n",
              "            <td>Curebit</td>\n",
              "            <td>Operating</td>\n",
              "            <td>2010.0</td>\n",
              "            <td>San Francisco - California - USA</td>\n",
              "            <td>Talkable is a social referral platform for online stories and subscriptions.</td>\n",
              "            <td>E-Commerce, Analytics, Internet, Marketing, Social Media</td>\n",
              "            <td>Allan Grant, Dominic Coryell, Jeff Yee, Nori Yoshida</td>\n",
              "            <td>2011</td>\n",
              "            <td>Winter</td>\n",
              "            <td>500 Startups, Dharmesh Shah, Alex Lloyd, Auren Hoffman, Gordon Tucker, Stage One Capital, reinmkr inc., Karl Jacob, Y Combinator</td>\n",
              "            <td>$1200000, undisclosed amount</td>\n",
              "            <td>290 Division St, #405, San Francisco, California, USA</td>\n",
              "            <td>San Francisco</td>\n",
              "            <td>California</td>\n",
              "            <td>USA</td>\n",
              "            <td>http://a5.images.crunchbase.com/image/upload/c_pad,h_98,w_98/v1407434890/sf19b2lsipbo6fazmjzq.png</td>\n",
              "            <td>http://www.seed-db.com/companies/view?companyid=102020</td>\n",
              "            <td>http://www.crunchbase.com/organization/curebit</td>\n",
              "            <td>https://www.talkable.com</td>\n",
              "        </tr>\n",
              "        <tr>\n",
              "            <td>Goldbely</td>\n",
              "            <td>Operating</td>\n",
              "            <td>None</td>\n",
              "            <td>San Francisco - California - USA</td>\n",
              "            <td>Goldbely is an e-commerce site for buying and discovering America&#x27;s best handmade gourmet food &amp; gifts.</td>\n",
              "            <td>Social, E-Commerce</td>\n",
              "            <td>Joe Ariel, Joel Gillman, Trevor Stow, Vanessa Torrivilla</td>\n",
              "            <td>2013</td>\n",
              "            <td>Winter</td>\n",
              "            <td>500 Startups, Funders Club, Dave McClure, Tim Draper, Intel Capital, ACE &amp; Company, Y Combinator</td>\n",
              "            <td>$3,000,000</td>\n",
              "            <td>1 Bluxome Street, San Francisco, California, USA</td>\n",
              "            <td>San Francisco</td>\n",
              "            <td>California</td>\n",
              "            <td>USA</td>\n",
              "            <td>http://a3.images.crunchbase.com/image/upload/c_pad,h_98,w_98/v1397180367/99717257bb2a360419f75b586503af93.png</td>\n",
              "            <td>http://www.seed-db.com/companies/view?companyid=729001</td>\n",
              "            <td>http://www.crunchbase.com/organization/goldbely</td>\n",
              "            <td>http://www.goldbely.com</td>\n",
              "        </tr>\n",
              "        <tr>\n",
              "            <td>theDailyMuse</td>\n",
              "            <td>Operating</td>\n",
              "            <td>2011.0</td>\n",
              "            <td>New York City - New York - USA</td>\n",
              "            <td>The Daily Muse is a job search platform offering multimedia profiles of various companies that are hiring people.</td>\n",
              "            <td>None</td>\n",
              "            <td>Alex Cavoulacos, Kathryn Minshew, Melissa McCreery</td>\n",
              "            <td>2012</td>\n",
              "            <td>Winter</td>\n",
              "            <td>500 Startups, Great Oaks Venture Capital, Great Oaks Venture Capital, Thomas D. Lehrman, Adam Quinton, Y Combinator</td>\n",
              "            <td>$2800000, $2100000, $1200000, $1200000</td>\n",
              "            <td>33 WEST 26TH STREET, #2, New York, New York, USA</td>\n",
              "            <td>New York City</td>\n",
              "            <td>New York</td>\n",
              "            <td>USA</td>\n",
              "            <td>http://a5.images.crunchbase.com/image/upload/c_pad,h_98,w_98/v1398232938/ffck9mcohrtktbkj3oie.jpg</td>\n",
              "            <td>http://www.seed-db.com/companies/view?companyid=96040</td>\n",
              "            <td>http://www.crunchbase.com/organization/the-daily-muse</td>\n",
              "            <td>http://www.thedailymuse.com</td>\n",
              "        </tr>\n",
              "        <tr>\n",
              "            <td>Zencoder</td>\n",
              "            <td>Exited</td>\n",
              "            <td>None</td>\n",
              "            <td>San Francisco - California - USA</td>\n",
              "            <td>Zencoder is web-based video encoding SaaS designed to convert any video into web and mobile-compatible formats in real-time.</td>\n",
              "            <td>SaaS, Cloud Computing, Audio, Web Development, Data, Security, Video, Software</td>\n",
              "            <td>Brandon Arbini, Jon Dahl, Steve Heffernan</td>\n",
              "            <td>2010</td>\n",
              "            <td>Winter</td>\n",
              "            <td>500 Startups, Matt Cutts, Ignition Partners, James Lindenbaum, Orion Henry, Neil McClements, Wolfgang Buehler, Justin Yoshimura, Mike Bollinger, Adam Wiggins, SV Angel, Founder Collective, Robert Weber, Lowercase Capital, Andreessen Horowitz, Y Combinator</td>\n",
              "            <td>$2000000, undisclosed amount</td>\n",
              "            <td>San Francisco, CA, 94103, USA</td>\n",
              "            <td>San Francisco</td>\n",
              "            <td>California</td>\n",
              "            <td>USA</td>\n",
              "            <td>http://a1.images.crunchbase.com/image/upload/c_pad,h_98,w_98/v1397206653/62e91e3f1c95f92912be5bd26638ea60.png</td>\n",
              "            <td>http://www.seed-db.com/companies/view?companyid=98019</td>\n",
              "            <td>http://www.crunchbase.com/organization/zencoder</td>\n",
              "            <td>http://zencoder.com</td>\n",
              "        </tr>\n",
              "        <tr>\n",
              "            <td>GinzaMetrics</td>\n",
              "            <td>Operating</td>\n",
              "            <td>None</td>\n",
              "            <td>San Francisco - California - USA</td>\n",
              "            <td>GinzaMetrics offers an SEO and content marketing platform that provides recommendations and competitor analytics to agencies and marketers.</td>\n",
              "            <td>Enterprises, E-Commerce, Analytics, SEO, Enterprise Software</td>\n",
              "            <td>Ray Grieselhuber</td>\n",
              "            <td>2010</td>\n",
              "            <td>Summer</td>\n",
              "            <td>500 Startups, 500 Startups, Venture51, Jeff Miller, SunBridge Global Ventures, Y Combinator</td>\n",
              "            <td>undisclosed amount, $1300000, $400000, $14000</td>\n",
              "            <td>25 Taylor Street, San Francisco, CA, 94103, USA</td>\n",
              "            <td>San Francisco</td>\n",
              "            <td>California</td>\n",
              "            <td>USA</td>\n",
              "            <td>http://a2.images.crunchbase.com/image/upload/c_pad,h_98,w_98/v1397186693/0738a0a8a1cce45f209ec0b0cbc75627.png</td>\n",
              "            <td>http://www.seed-db.com/companies/view?companyid=103018</td>\n",
              "            <td>http://www.crunchbase.com/organization/ginzametrics</td>\n",
              "            <td>http://ginzametrics.com</td>\n",
              "        </tr>\n",
              "    </tbody>\n",
              "</table>"
            ],
            "text/plain": [
              "[('Curebit', 'Operating', 2010.0, 'San Francisco - California - USA', 'Talkable is a social referral platform for online stories and subscriptions.', 'E-Commerce, Analytics, Internet, Marketing, Social Media', 'Allan Grant, Dominic Coryell, Jeff Yee, Nori Yoshida', 2011, 'Winter', '500 Startups, Dharmesh Shah, Alex Lloyd, Auren Hoffman, Gordon Tucker, Stage One Capital, reinmkr inc., Karl Jacob, Y Combinator', '$1200000, undisclosed amount', '290 Division St, #405, San Francisco, California, USA', 'San Francisco', 'California', 'USA', 'http://a5.images.crunchbase.com/image/upload/c_pad,h_98,w_98/v1407434890/sf19b2lsipbo6fazmjzq.png', 'http://www.seed-db.com/companies/view?companyid=102020', 'http://www.crunchbase.com/organization/curebit', 'https://www.talkable.com'),\n",
              " ('Goldbely', 'Operating', None, 'San Francisco - California - USA', \"Goldbely is an e-commerce site for buying and discovering America's best handmade gourmet food & gifts.\", 'Social, E-Commerce', 'Joe Ariel, Joel Gillman, Trevor Stow, Vanessa Torrivilla', 2013, 'Winter', '500 Startups, Funders Club, Dave McClure, Tim Draper, Intel Capital, ACE & Company, Y Combinator', '$3,000,000', '1 Bluxome Street, San Francisco, California, USA', 'San Francisco', 'California', 'USA', 'http://a3.images.crunchbase.com/image/upload/c_pad,h_98,w_98/v1397180367/99717257bb2a360419f75b586503af93.png', 'http://www.seed-db.com/companies/view?companyid=729001', 'http://www.crunchbase.com/organization/goldbely', 'http://www.goldbely.com'),\n",
              " ('theDailyMuse', 'Operating', 2011.0, 'New York City - New York - USA', 'The Daily Muse is a job search platform offering multimedia profiles of various companies that are hiring people.', None, 'Alex Cavoulacos, Kathryn Minshew, Melissa McCreery', 2012, 'Winter', '500 Startups, Great Oaks Venture Capital, Great Oaks Venture Capital, Thomas D. Lehrman, Adam Quinton, Y Combinator', '$2800000, $2100000, $1200000, $1200000', '33 WEST 26TH STREET, #2, New York, New York, USA', 'New York City', 'New York', 'USA', 'http://a5.images.crunchbase.com/image/upload/c_pad,h_98,w_98/v1398232938/ffck9mcohrtktbkj3oie.jpg', 'http://www.seed-db.com/companies/view?companyid=96040', 'http://www.crunchbase.com/organization/the-daily-muse', 'http://www.thedailymuse.com'),\n",
              " ('Zencoder', 'Exited', None, 'San Francisco - California - USA', 'Zencoder is web-based video encoding SaaS designed to convert any video into web and mobile-compatible formats in real-time.', 'SaaS, Cloud Computing, Audio, Web Development, Data, Security, Video, Software', 'Brandon Arbini, Jon Dahl, Steve Heffernan', 2010, 'Winter', '500 Startups, Matt Cutts, Ignition Partners, James Lindenbaum, Orion Henry, Neil McClements, Wolfgang Buehler, Justin Yoshimura, Mike Bollinger, Adam Wiggins, SV Angel, Founder Collective, Robert Weber, Lowercase Capital, Andreessen Horowitz, Y Combinator', '$2000000, undisclosed amount', 'San Francisco, CA, 94103, USA', 'San Francisco', 'California', 'USA', 'http://a1.images.crunchbase.com/image/upload/c_pad,h_98,w_98/v1397206653/62e91e3f1c95f92912be5bd26638ea60.png', 'http://www.seed-db.com/companies/view?companyid=98019', 'http://www.crunchbase.com/organization/zencoder', 'http://zencoder.com'),\n",
              " ('GinzaMetrics', 'Operating', None, 'San Francisco - California - USA', 'GinzaMetrics offers an SEO and content marketing platform that provides recommendations and competitor analytics to agencies and marketers.', 'Enterprises, E-Commerce, Analytics, SEO, Enterprise Software', 'Ray Grieselhuber', 2010, 'Summer', '500 Startups, 500 Startups, Venture51, Jeff Miller, SunBridge Global Ventures, Y Combinator', 'undisclosed amount, $1300000, $400000, $14000', '25 Taylor Street, San Francisco, CA, 94103, USA', 'San Francisco', 'California', 'USA', 'http://a2.images.crunchbase.com/image/upload/c_pad,h_98,w_98/v1397186693/0738a0a8a1cce45f209ec0b0cbc75627.png', 'http://www.seed-db.com/companies/view?companyid=103018', 'http://www.crunchbase.com/organization/ginzametrics', 'http://ginzametrics.com')]"
            ]
          },
          "metadata": {
            "tags": []
          },
          "execution_count": 50
        }
      ]
    },
    {
      "cell_type": "code",
      "metadata": {
        "id": "sSy3id3XTgpn"
      },
      "source": [
        "# Challenge 2\n",
        "# Let's load our Transactions.csv file below\n",
        "# \n",
        "with open('Transactions.csv','r') as f:\n",
        "  Transactions = pd.read_csv(f, index_col=0, encoding='utf-8')\n"
      ],
      "execution_count": 19,
      "outputs": []
    },
    {
      "cell_type": "code",
      "metadata": {
        "id": "x1IPqG3T_abj"
      },
      "source": [
        "#Confirming the transactions data set\n",
        "%%sql\n",
        "SELECT * FROM Transactions  LIMIT 5;"
      ],
      "execution_count": null,
      "outputs": []
    },
    {
      "cell_type": "code",
      "metadata": {
        "id": "vbPGX46TzIu8"
      },
      "source": [
        "# Challenge 3\n",
        "# Let's load our Glass.csv file below\n",
        "# \n",
        "with open('Glass.csv','r') as f:\n",
        "    Glass = pd.read_csv(f, index_col=0, encoding='utf-8') \n",
        "    "
      ],
      "execution_count": 24,
      "outputs": []
    },
    {
      "cell_type": "code",
      "metadata": {
        "id": "nL0gargiBIF5"
      },
      "source": [
        "#Ill drop existing tables similar to this one\n",
        "%sql DROP TABLE if EXISTS Glass;\n",
        "%sql PERSIST Glass;"
      ],
      "execution_count": null,
      "outputs": []
    },
    {
      "cell_type": "code",
      "metadata": {
        "id": "8zzKE7_pB-xT"
      },
      "source": [
        "#Ill test the glass dataset\n",
        "%%sql\n",
        "SELECT * FROM Glass  LIMIT 5"
      ],
      "execution_count": null,
      "outputs": []
    },
    {
      "cell_type": "markdown",
      "metadata": {
        "id": "NCQgJlS3i5s8"
      },
      "source": [
        "## 1.3 Inserting data into a table\n"
      ]
    },
    {
      "cell_type": "code",
      "metadata": {
        "id": "8G6lchhzSKO5"
      },
      "source": [
        "# Example 1: Previewing our table \n",
        "# We will first preview the last 5 records in Interpol our table\n",
        "# NB: We learn this in our last SQL Session i.e. Sorting\n",
        "#\n",
        "%%sql\n",
        "SELECT * FROM Interpol LIMIT 5"
      ],
      "execution_count": null,
      "outputs": []
    },
    {
      "cell_type": "code",
      "metadata": {
        "id": "9vqdsIkWmojW"
      },
      "source": [
        "# Example 2: Inserting data\n",
        "# Then we will insert new data into our table and noting the added record\n",
        "# Country = Uganda\n",
        "# National Fugitives = 1\n",
        "# Wanted Fugitives = 1\n",
        "# Possible Hosted Fugitives / Captured Fugitives = 0\n",
        "# Region = Sub Saharan Africa\n",
        "# Flag = https://www.crwflags.com/art/countries/uganda.gif\n",
        "%%sql\n",
        "INSERT INTO Interpol (Country, \"National Fugitives\", \"Wanted Fugitives\", \"Possible Hosted Fugitives / Captured Fugitives\", Region, Flag)\n",
        "VALUES ('Uganda', '1', '1', '0', 'Sub Saharan Africa', 'https://www.crwflags.com/art/countries/uganda.gif');\n",
        "\n",
        "SELECT * FROM Interpol;"
      ],
      "execution_count": null,
      "outputs": []
    },
    {
      "cell_type": "code",
      "metadata": {
        "id": "c0nQlZSAmyX8"
      },
      "source": [
        "# Example 2: Previewing the first five records in the Startups.csv file\n",
        "#\n",
        "%%sql \n",
        "SELECT * FROM Startups LIMIT 5;"
      ],
      "execution_count": null,
      "outputs": []
    },
    {
      "cell_type": "code",
      "metadata": {
        "id": "CljoZdPAg1jx"
      },
      "source": [
        "# Example 2: Inserting data\n",
        "# Then we will insert new data into our table and noting all the values of the added record\n",
        "# We will add The follwoing\n",
        "# Company = 'Glova'\n",
        "# Satus = 'Operating'   \n",
        "# \n",
        "%%sql\n",
        "INSERT INTO Startups (Company, Satus)\n",
        "VALUES ('Glova', 'Operating');\n",
        "\n",
        "SELECT * FROM Startups;"
      ],
      "execution_count": null,
      "outputs": []
    },
    {
      "cell_type": "code",
      "metadata": {
        "id": "XzBTq046g2Oj"
      },
      "source": [
        "# Example 3\n",
        "# Now Inserting a new record into the specific columns; Company, Mapping Location, Categories\n",
        "# Company = \"Moringa\"\n",
        "# Mapping Location = \"Nairobi\"\n",
        "# Categories = \"Education\"\n",
        "#\n",
        "%%sql\n",
        "INSERT INTO Startups (Company, \"Mapping Location\", Categories) \n",
        "VALUES (\"Moringa\", \"Nairobi\", \"Education\");\n",
        "\n",
        "SELECT * FROM Startups;"
      ],
      "execution_count": null,
      "outputs": []
    },
    {
      "cell_type": "markdown",
      "metadata": {
        "id": "zIWkDFXAg3WM"
      },
      "source": [
        "### <font color=\"green\">1.3 Challenges</font>"
      ]
    },
    {
      "cell_type": "code",
      "metadata": {
        "id": "FKnfkkG5g_Jq"
      },
      "source": [
        "# Challenge 1\n",
        "# Insert a new record into the Interpol table with  \n",
        "# Country = Tanzania\n",
        "# National Fugitives = 3\n",
        "# Wanted Fugitives = Null\n",
        "# Possible Hosted Fugitives / Captured Fugitives = 2\n",
        "# Region = Sub Saharan Africa\n",
        "# Flag = https://www.crwflags.com/art/countries/tanzania.gif\n",
        "# \n",
        "%%sql\n",
        "INSERT INTO Interpol(Country, \"National Fugitives\", \"Wanted Fugitives\", \"Possible Hosted Fugitives / Captured Fugitives\", Region, Flag)\n",
        "VALUES('Tanzania', '3', 'Null', '2', 'Sub Saharan Africa', 'https://www.crwflags.com/art/countries/tanzania.gif');\n",
        "SELECT * FROM Interpol;"
      ],
      "execution_count": null,
      "outputs": []
    },
    {
      "cell_type": "code",
      "metadata": {
        "id": "qCETOUp6n6Ui"
      },
      "source": [
        "# Challenge 2\n",
        "# Insert any two records of your choosing into the Interpol table\n",
        "# \n",
        "%%sql\n",
        "INSERT INTO Interpol(Country, \"National Fugitives\")\n",
        "VALUES('Tilted Towers', '100');\n",
        "SELECT * FROM Interpol;"
      ],
      "execution_count": null,
      "outputs": []
    },
    {
      "cell_type": "code",
      "metadata": {
        "id": "YFXzzsAeg--N"
      },
      "source": [
        "# Challenge 3\n",
        "# Insert any new record in the Startups table only have the following attributes \n",
        "# Company, Mapping Location, Categories\n",
        "# \n",
        "%%sql\n",
        "INSERT INTO Startups(Company, \"Mapping Location\", Categories)\n",
        "VALUES('Fortnite','Kenya', 'Coding');\n",
        "SELECT * FROM Startups;\n"
      ],
      "execution_count": null,
      "outputs": []
    },
    {
      "cell_type": "markdown",
      "metadata": {
        "id": "0tHKCvqwjHzR"
      },
      "source": [
        "## 1.4 Updating records in a table\n"
      ]
    },
    {
      "cell_type": "code",
      "metadata": {
        "id": "R8fK5cLfgTPP"
      },
      "source": [
        "# Example 1\n",
        "# Let's update Albania to 4 National Fugitives in the Interpol table.\n",
        "# \n",
        "%%sql\n",
        "UPDATE Interpol\n",
        "SET \"National Fugitives\" = 4\n",
        "WHERE Country = \"Albania\";\n",
        "SELECT * FROM Interpol;"
      ],
      "execution_count": null,
      "outputs": []
    },
    {
      "cell_type": "code",
      "metadata": {
        "id": "S7hjp7LAgT4h"
      },
      "source": [
        "# Example 2\n",
        "# Let's update any transactions record that has ride_id = 5781 \n",
        "# to 5782\n",
        "#\n",
        "%%sql\n",
        "UPDATE Transactions\n",
        "SET ride_id = 5782\n",
        "WHERE ride_id = 5781;\n",
        "\n",
        "SELECT * FROM Transactions;"
      ],
      "execution_count": null,
      "outputs": []
    },
    {
      "cell_type": "code",
      "metadata": {
        "id": "nehqdCystZKe",
        "colab": {
          "base_uri": "https://localhost:8080/",
          "height": 532
        },
        "outputId": "e7df4b65-db0a-4b1e-b718-d19e128a24f4"
      },
      "source": [
        "# Example 3\n",
        "# Let's update the transactions record with ride_id = 5778 to \n",
        "# have travel_from = 'Kisii' and car_type = 'shuttle'\n",
        "#\n",
        "%%sql\n",
        "UPDATE Transactions\n",
        "SET travel_from = 'Kisii', car_type = 'shuttle'\n",
        "WHERE ride_id = 5778;\n",
        "\n",
        "SELECT * FROM Transactions; "
      ],
      "execution_count": 90,
      "outputs": [
        {
          "output_type": "stream",
          "text": [
            " * sqlite://\n",
            "4 rows affected.\n",
            "Done.\n"
          ],
          "name": "stdout"
        },
        {
          "output_type": "execute_result",
          "data": {
            "text/html": [
              "<table>\n",
              "    <thead>\n",
              "        <tr>\n",
              "            <th>ride_id</th>\n",
              "            <th>seat_number</th>\n",
              "            <th>payment_method</th>\n",
              "            <th>payment_receipt</th>\n",
              "            <th>travel_date</th>\n",
              "            <th>travel_time</th>\n",
              "            <th>travel_from</th>\n",
              "            <th>travel_to</th>\n",
              "            <th>car_type</th>\n",
              "            <th>max_capacity</th>\n",
              "        </tr>\n",
              "    </thead>\n",
              "    <tbody>\n",
              "        <tr>\n",
              "            <td>1442</td>\n",
              "            <td>15A</td>\n",
              "            <td>None</td>\n",
              "            <td>UZUEHCBUSO</td>\n",
              "            <td>17-10-17</td>\n",
              "            <td>7:15</td>\n",
              "            <td>Migori</td>\n",
              "            <td>Nairobi</td>\n",
              "            <td>Bus</td>\n",
              "            <td>49</td>\n",
              "        </tr>\n",
              "        <tr>\n",
              "            <td>5437</td>\n",
              "            <td>14A</td>\n",
              "            <td>None</td>\n",
              "            <td>TIHLBUSGTE</td>\n",
              "            <td>19-11-17</td>\n",
              "            <td>7:12</td>\n",
              "            <td>Migori</td>\n",
              "            <td>Nairobi</td>\n",
              "            <td>Bus</td>\n",
              "            <td>49</td>\n",
              "        </tr>\n",
              "        <tr>\n",
              "            <td>5710</td>\n",
              "            <td>8B</td>\n",
              "            <td>None</td>\n",
              "            <td>EQX8Q5G19O</td>\n",
              "            <td>26-11-17</td>\n",
              "            <td>7:05</td>\n",
              "            <td>Keroka</td>\n",
              "            <td>Nairobi</td>\n",
              "            <td>Bus</td>\n",
              "            <td>49</td>\n",
              "        </tr>\n",
              "        <tr>\n",
              "            <td>5777</td>\n",
              "            <td>19A</td>\n",
              "            <td>None</td>\n",
              "            <td>SGP18CL0ME</td>\n",
              "            <td>27-11-17</td>\n",
              "            <td>7:10</td>\n",
              "            <td>Homa Bay</td>\n",
              "            <td>Nairobi</td>\n",
              "            <td>Bus</td>\n",
              "            <td>49</td>\n",
              "        </tr>\n",
              "        <tr>\n",
              "            <td>5778</td>\n",
              "            <td>11A</td>\n",
              "            <td>None</td>\n",
              "            <td>BM97HFRGL9</td>\n",
              "            <td>27-11-17</td>\n",
              "            <td>7:12</td>\n",
              "            <td>Kisii</td>\n",
              "            <td>Nairobi</td>\n",
              "            <td>shuttle</td>\n",
              "            <td>49</td>\n",
              "        </tr>\n",
              "        <tr>\n",
              "            <td>5777</td>\n",
              "            <td>18B</td>\n",
              "            <td>None</td>\n",
              "            <td>B6PBDU30IZ</td>\n",
              "            <td>27-11-17</td>\n",
              "            <td>7:10</td>\n",
              "            <td>Homa Bay</td>\n",
              "            <td>Nairobi</td>\n",
              "            <td>Bus</td>\n",
              "            <td>49</td>\n",
              "        </tr>\n",
              "        <tr>\n",
              "            <td>5777</td>\n",
              "            <td>14A</td>\n",
              "            <td>None</td>\n",
              "            <td>MZHGDGS6QZ</td>\n",
              "            <td>27-11-17</td>\n",
              "            <td>7:10</td>\n",
              "            <td>Homa Bay</td>\n",
              "            <td>Nairobi</td>\n",
              "            <td>Bus</td>\n",
              "            <td>49</td>\n",
              "        </tr>\n",
              "        <tr>\n",
              "            <td>5778</td>\n",
              "            <td>25</td>\n",
              "            <td>None</td>\n",
              "            <td>MYVTYFNXDZ</td>\n",
              "            <td>27-11-17</td>\n",
              "            <td>7:12</td>\n",
              "            <td>Kisii</td>\n",
              "            <td>Nairobi</td>\n",
              "            <td>shuttle</td>\n",
              "            <td>49</td>\n",
              "        </tr>\n",
              "        <tr>\n",
              "            <td>5778</td>\n",
              "            <td>21B</td>\n",
              "            <td>None</td>\n",
              "            <td>TE1WYK1NYE</td>\n",
              "            <td>27-11-17</td>\n",
              "            <td>7:12</td>\n",
              "            <td>Kisii</td>\n",
              "            <td>Nairobi</td>\n",
              "            <td>shuttle</td>\n",
              "            <td>49</td>\n",
              "        </tr>\n",
              "        <tr>\n",
              "            <td>5781</td>\n",
              "            <td>22A</td>\n",
              "            <td>None</td>\n",
              "            <td>VGG7Q3MVJX</td>\n",
              "            <td>27-11-17</td>\n",
              "            <td>7:09</td>\n",
              "            <td>Homa Bay</td>\n",
              "            <td>Nairobi</td>\n",
              "            <td>Bus</td>\n",
              "            <td>49</td>\n",
              "        </tr>\n",
              "        <tr>\n",
              "            <td>5781</td>\n",
              "            <td>18B</td>\n",
              "            <td>None</td>\n",
              "            <td>YJ7JFHOGKA</td>\n",
              "            <td>27-11-17</td>\n",
              "            <td>7:09</td>\n",
              "            <td>Homa Bay</td>\n",
              "            <td>Nairobi</td>\n",
              "            <td>Bus</td>\n",
              "            <td>49</td>\n",
              "        </tr>\n",
              "        <tr>\n",
              "            <td>5781</td>\n",
              "            <td>17B</td>\n",
              "            <td>None</td>\n",
              "            <td>4JQOSC881A</td>\n",
              "            <td>27-11-17</td>\n",
              "            <td>7:09</td>\n",
              "            <td>Homa Bay</td>\n",
              "            <td>Nairobi</td>\n",
              "            <td>Bus</td>\n",
              "            <td>49</td>\n",
              "        </tr>\n",
              "        <tr>\n",
              "            <td>5784</td>\n",
              "            <td>1X</td>\n",
              "            <td>None</td>\n",
              "            <td>3OPU23FHRB</td>\n",
              "            <td>20-04-18</td>\n",
              "            <td>5:10</td>\n",
              "            <td>Kisii</td>\n",
              "            <td>Nairobi</td>\n",
              "            <td>shuttle</td>\n",
              "            <td>11</td>\n",
              "        </tr>\n",
              "        <tr>\n",
              "            <td>5789</td>\n",
              "            <td>1X</td>\n",
              "            <td>None</td>\n",
              "            <td>BPRX4UMFFN</td>\n",
              "            <td>20-04-18</td>\n",
              "            <td>9:50</td>\n",
              "            <td>Kisii</td>\n",
              "            <td>Nairobi</td>\n",
              "            <td>shuttle</td>\n",
              "            <td>11</td>\n",
              "        </tr>\n",
              "        <tr>\n",
              "            <td>5778</td>\n",
              "            <td>3A</td>\n",
              "            <td>None</td>\n",
              "            <td>JDD4ZL64LP</td>\n",
              "            <td>27-11-17</td>\n",
              "            <td>7:12</td>\n",
              "            <td>Kisii</td>\n",
              "            <td>Nairobi</td>\n",
              "            <td>shuttle</td>\n",
              "            <td>49</td>\n",
              "        </tr>\n",
              "        <tr>\n",
              "            <td>5790</td>\n",
              "            <td>1B</td>\n",
              "            <td>None</td>\n",
              "            <td>DC8ABRSXXK</td>\n",
              "            <td>20-04-18</td>\n",
              "            <td>7:06</td>\n",
              "            <td>Kisii</td>\n",
              "            <td>Nairobi</td>\n",
              "            <td>Bus</td>\n",
              "            <td>49</td>\n",
              "        </tr>\n",
              "        <tr>\n",
              "            <td>5791</td>\n",
              "            <td>1</td>\n",
              "            <td>None</td>\n",
              "            <td>HGQURN0SZS</td>\n",
              "            <td>20-04-18</td>\n",
              "            <td>6:00</td>\n",
              "            <td>Kisii</td>\n",
              "            <td>Nairobi</td>\n",
              "            <td>shuttle</td>\n",
              "            <td>11</td>\n",
              "        </tr>\n",
              "        <tr>\n",
              "            <td>5792</td>\n",
              "            <td>1</td>\n",
              "            <td>None</td>\n",
              "            <td>8D9V8HK2FC</td>\n",
              "            <td>20-04-18</td>\n",
              "            <td>5:50</td>\n",
              "            <td>Kisii</td>\n",
              "            <td>Nairobi</td>\n",
              "            <td>shuttle</td>\n",
              "            <td>11</td>\n",
              "        </tr>\n",
              "        <tr>\n",
              "            <td>5793</td>\n",
              "            <td>1</td>\n",
              "            <td>None</td>\n",
              "            <td>TTZQDYZHAB</td>\n",
              "            <td>20-04-18</td>\n",
              "            <td>10:58</td>\n",
              "            <td>Kisii</td>\n",
              "            <td>Nairobi</td>\n",
              "            <td>shuttle</td>\n",
              "            <td>11</td>\n",
              "        </tr>\n",
              "        <tr>\n",
              "            <td>5790</td>\n",
              "            <td>4A</td>\n",
              "            <td>None</td>\n",
              "            <td>F8VBKYCXPL</td>\n",
              "            <td>20-04-18</td>\n",
              "            <td>7:06</td>\n",
              "            <td>Kisii</td>\n",
              "            <td>Nairobi</td>\n",
              "            <td>Bus</td>\n",
              "            <td>49</td>\n",
              "        </tr>\n",
              "        <tr>\n",
              "            <td>5794</td>\n",
              "            <td>1</td>\n",
              "            <td>None</td>\n",
              "            <td>ETNVCDEZLR</td>\n",
              "            <td>20-04-18</td>\n",
              "            <td>6:50</td>\n",
              "            <td>Kisii</td>\n",
              "            <td>Nairobi</td>\n",
              "            <td>shuttle</td>\n",
              "            <td>11</td>\n",
              "        </tr>\n",
              "    </tbody>\n",
              "</table>"
            ],
            "text/plain": [
              "[(1442, '15A', None, 'UZUEHCBUSO', '17-10-17', '7:15', 'Migori', 'Nairobi', 'Bus', 49),\n",
              " (5437, '14A', None, 'TIHLBUSGTE', '19-11-17', '7:12', 'Migori', 'Nairobi', 'Bus', 49),\n",
              " (5710, '8B', None, 'EQX8Q5G19O', '26-11-17', '7:05', 'Keroka', 'Nairobi', 'Bus', 49),\n",
              " (5777, '19A', None, 'SGP18CL0ME', '27-11-17', '7:10', 'Homa Bay', 'Nairobi', 'Bus', 49),\n",
              " (5778, '11A', None, 'BM97HFRGL9', '27-11-17', '7:12', 'Kisii', 'Nairobi', 'shuttle', 49),\n",
              " (5777, '18B', None, 'B6PBDU30IZ', '27-11-17', '7:10', 'Homa Bay', 'Nairobi', 'Bus', 49),\n",
              " (5777, '14A', None, 'MZHGDGS6QZ', '27-11-17', '7:10', 'Homa Bay', 'Nairobi', 'Bus', 49),\n",
              " (5778, '25', None, 'MYVTYFNXDZ', '27-11-17', '7:12', 'Kisii', 'Nairobi', 'shuttle', 49),\n",
              " (5778, '21B', None, 'TE1WYK1NYE', '27-11-17', '7:12', 'Kisii', 'Nairobi', 'shuttle', 49),\n",
              " (5781, '22A', None, 'VGG7Q3MVJX', '27-11-17', '7:09', 'Homa Bay', 'Nairobi', 'Bus', 49),\n",
              " (5781, '18B', None, 'YJ7JFHOGKA', '27-11-17', '7:09', 'Homa Bay', 'Nairobi', 'Bus', 49),\n",
              " (5781, '17B', None, '4JQOSC881A', '27-11-17', '7:09', 'Homa Bay', 'Nairobi', 'Bus', 49),\n",
              " (5784, '1X', None, '3OPU23FHRB', '20-04-18', '5:10', 'Kisii', 'Nairobi', 'shuttle', 11),\n",
              " (5789, '1X', None, 'BPRX4UMFFN', '20-04-18', '9:50', 'Kisii', 'Nairobi', 'shuttle', 11),\n",
              " (5778, '3A', None, 'JDD4ZL64LP', '27-11-17', '7:12', 'Kisii', 'Nairobi', 'shuttle', 49),\n",
              " (5790, '1B', None, 'DC8ABRSXXK', '20-04-18', '7:06', 'Kisii', 'Nairobi', 'Bus', 49),\n",
              " (5791, '1', None, 'HGQURN0SZS', '20-04-18', '6:00', 'Kisii', 'Nairobi', 'shuttle', 11),\n",
              " (5792, '1', None, '8D9V8HK2FC', '20-04-18', '5:50', 'Kisii', 'Nairobi', 'shuttle', 11),\n",
              " (5793, '1', None, 'TTZQDYZHAB', '20-04-18', '10:58', 'Kisii', 'Nairobi', 'shuttle', 11),\n",
              " (5790, '4A', None, 'F8VBKYCXPL', '20-04-18', '7:06', 'Kisii', 'Nairobi', 'Bus', 49),\n",
              " (5794, '1', None, 'ETNVCDEZLR', '20-04-18', '6:50', 'Kisii', 'Nairobi', 'shuttle', 11)]"
            ]
          },
          "metadata": {
            "tags": []
          },
          "execution_count": 90
        }
      ]
    },
    {
      "cell_type": "markdown",
      "metadata": {
        "id": "9FgkIQ9FgUc2"
      },
      "source": [
        "### <font color=\"green\">1.4 Challenges</font>"
      ]
    },
    {
      "cell_type": "code",
      "metadata": {
        "id": "vyywG3d5gaUu",
        "colab": {
          "base_uri": "https://localhost:8080/"
        },
        "outputId": "2fe908d6-1fdb-40f2-d2d7-b4f5662d4413"
      },
      "source": [
        "# Challenge 1\n",
        "# Update the transactions records with the \n",
        "# payment_method = none to Null\n",
        "# \n",
        "%%sql\n",
        "UPDATE Transactions\n",
        "SET \"payment_method\" = Null\n",
        "WHERE \"payment_method\" IS NONE;\n",
        "SELECT * FROM Transactions;\n"
      ],
      "execution_count": 91,
      "outputs": [
        {
          "output_type": "stream",
          "text": [
            " * sqlite://\n",
            "(sqlite3.OperationalError) no such column: NONE\n",
            "[SQL: UPDATE Transactions\n",
            "SET \"payment_method\" = Null\n",
            "WHERE \"payment_method\" IS NONE;]\n",
            "(Background on this error at: http://sqlalche.me/e/14/e3q8)\n"
          ],
          "name": "stdout"
        }
      ]
    },
    {
      "cell_type": "code",
      "metadata": {
        "id": "DtI4lnTZgayY"
      },
      "source": [
        "# Challenge 2\n",
        "# Update the Interpol records with Wanted Fugitives\t = 2\n",
        "# to National Fugitives = 2 \n",
        "# \n",
        "%%sql\n",
        "UPDATE Interpol\n",
        "SET \"National Fugitives\" = 2\n",
        "WHERE \"Wanted Fugititves\" = 2;\n",
        "SELECT * FROM Interpol;\n"
      ],
      "execution_count": null,
      "outputs": []
    },
    {
      "cell_type": "code",
      "metadata": {
        "id": "nXJcVgRKgaoE"
      },
      "source": [
        "# Challenge 3 \n",
        "# Update the transactions records with car_type = \"Bus\" to \n",
        "# have car_type = \"shuttle\" and travel_to = \"Nairobi Downtown\"\n",
        "# \n",
        "%%sql\n",
        "UPDATE Transactions\n",
        "SET car_type = \"shuttle\", travel_to = \"Nairobi Downtown\"\n",
        "WHERE car_type = \"Bus\";\n",
        "SELECT * FROM Transactions;\n"
      ],
      "execution_count": null,
      "outputs": []
    },
    {
      "cell_type": "markdown",
      "metadata": {
        "id": "f8mqknCOjdy0"
      },
      "source": [
        "## 1.5 Updating with Conditions\n"
      ]
    },
    {
      "cell_type": "code",
      "metadata": {
        "id": "fPk6BlrFrmRS"
      },
      "source": [
        "# Example 1\n",
        "# As you have seen from the previous examples, we used the WHERE clause to specify\n",
        "# where we would like to make our updates on the table.\n",
        "# Now, how then would we do this for multiple records. Say, we wanted to update \n",
        "# records with Kisii to \"Kisii Old Stage\", we would do the following\n",
        "#\n",
        "%%sql \n",
        "UPDATE Transactions\n",
        "SET travel_from = \"Old Kisii\"\n",
        "WHERE travel_from = \"Kisii\";\n",
        "\n",
        "SELECT * FROM Transactions;"
      ],
      "execution_count": null,
      "outputs": []
    },
    {
      "cell_type": "code",
      "metadata": {
        "id": "Ho3kt_0Dgqnc"
      },
      "source": [
        "# Example 2\n",
        "# We also need to be careful when updating records. If we omit the WHERE clause, ALL records will be updated!\n",
        "# For example, running the code below will update our entire Wanted Fugitives \n",
        "# column with our new value as show in this example\n",
        "# \n",
        "%%sql\n",
        "UPDATE Interpol\n",
        "SET \"Wanted Fugitives\"= 1; \n",
        "\n",
        "SELECT * FROM Interpol;"
      ],
      "execution_count": null,
      "outputs": []
    },
    {
      "cell_type": "code",
      "metadata": {
        "id": "ucgxumOtqoGq"
      },
      "source": [
        "# Example 2: Getting back our values.\n",
        "# A way to get back our values in the Wanted Fugitives table\n",
        "# is to read the table again. However, this will not consider any changes\n",
        "# that we had made earlier on.\n",
        "with open('Interpol.csv','r') as f:\n",
        "    Interpol = pd.read_csv(f, index_col=0, encoding='utf-8')\n",
        "%sql DROP TABLE if EXISTS Interpol;\n",
        "%sql PERSIST Interpol;\n",
        "%sql SELECT * from Interpol;"
      ],
      "execution_count": null,
      "outputs": []
    },
    {
      "cell_type": "code",
      "metadata": {
        "id": "-aIug5Tfgqbo"
      },
      "source": [
        "# Example 3\n",
        "# We can update Glass records which have Fe > 2.5 to Type = 2 \n",
        "# We first preview it below\n",
        "#\n",
        "OUR CODE GOES HERE"
      ],
      "execution_count": null,
      "outputs": []
    },
    {
      "cell_type": "code",
      "metadata": {
        "id": "RRA6yG6WzT7B"
      },
      "source": [
        "# Example 3\n",
        "# The perform the mentioned update\n",
        "#\n",
        "%%sql\n",
        "UPDATE Glass\n",
        "SET Type = 2\n",
        "WHERE Fe > 0.2;\n",
        "\n",
        "SELECT * FROM Glass;"
      ],
      "execution_count": null,
      "outputs": []
    },
    {
      "cell_type": "markdown",
      "metadata": {
        "id": "v_2lf_8Kgg13"
      },
      "source": [
        "### <font color=\"green\">1.5 Challenges</font>"
      ]
    },
    {
      "cell_type": "code",
      "metadata": {
        "id": "NRqqCBe7gqBq"
      },
      "source": [
        "# Challenge 1\n",
        "# Let's update Angola with National Fugitives = 2, Wanted Fugitives = 2\n",
        "# and 0 Possible Hosted Fugitives / Captured Fugitives\n",
        "# \n",
        "%%sql\n",
        "UPDATE Interpol\n",
        "SET \"National Fugitives\" = 2, \"Wanted Fugitives\" = 2, \"Possible Hosted Fugitives / Captured Fugitives\" = 0\n",
        "WHERE Country = \"Angola\";\n",
        "SELECT *FROM Interpol;\n",
        "\n"
      ],
      "execution_count": null,
      "outputs": []
    },
    {
      "cell_type": "code",
      "metadata": {
        "id": "wx2ARISHgpzh"
      },
      "source": [
        "# Challenge 2\n",
        "# Update Glass records with Na > 14 to have Type 3 \n",
        "#\n",
        "%%sql\n",
        "UPDATE Glass\n",
        "SET Type = 3\n",
        "WHERE Na > 14;\n",
        "\n",
        "SELECT * FROM Glass;"
      ],
      "execution_count": null,
      "outputs": []
    },
    {
      "cell_type": "code",
      "metadata": {
        "id": "g_zWlJKTgpmV"
      },
      "source": [
        "# Challenge 3\n",
        "# Update Treatment records with id > 41 to have treatment = \"treated\"\n",
        "# \n",
        "%%sql\n",
        "SELECT * FROM Startups\n",
        "LIMIT 1"
      ],
      "execution_count": null,
      "outputs": []
    },
    {
      "cell_type": "markdown",
      "metadata": {
        "id": "A1SpsHzcgNSF"
      },
      "source": [
        "## 1.6 Updating using value from another column\n"
      ]
    },
    {
      "cell_type": "code",
      "metadata": {
        "id": "fj9PSDFThbCE"
      },
      "source": [
        "# Example \n",
        "# From our Interpol table, lets update National Fugitives = 0 to \n",
        "# have the values of its Wanted fugitives.\n",
        "#\n",
        "%%sql\n",
        "UPDATE Interpol\n",
        "set \"National Fugitives\" = Interpol.\"Wanted Fugitives\"\n",
        "where \"National Fugitives\" = 0;\n",
        "\n",
        "SELECT * FROM Interpol;"
      ],
      "execution_count": null,
      "outputs": []
    },
    {
      "cell_type": "markdown",
      "metadata": {
        "id": "PTw63d8chcB0"
      },
      "source": [
        "### <font color=\"green\">1.6 Challenges</font>"
      ]
    },
    {
      "cell_type": "code",
      "metadata": {
        "id": "VOUWbKc5hfMX"
      },
      "source": [
        "# Challenge \n",
        "# From our Interpol table, we will need to update National Fugitives = 0 with\n",
        "# National Fugitives the sum of Wanted Fugitives and Possible Hosted Fugitives / Captured Fugitives\n",
        "#\n",
        "%%sql\n",
        "UPDATE Interpol\n",
        "set \"National Fugitives\"=\"Wanted Fugitives\"+\"Possible Hosted Fugitives / Captured Fugitives\"\n",
        "WHERE \"National Fugitives\" = 0;\n",
        "SELECT * FROM Interpol\n",
        "\n",
        "\n",
        "\n",
        "\n",
        "\n",
        "\n"
      ],
      "execution_count": null,
      "outputs": []
    }
  ]
}